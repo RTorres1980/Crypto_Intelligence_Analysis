{
 "cells": [
  {
   "cell_type": "markdown",
   "metadata": {},
   "source": [
    "# Crypto Intelligence: Top 50 Cryptocurrency Analysis\n",
    "\n",
    "This notebook demonstrates an end-to-end data engineering and analytics pipeline to analyze and rank the **top 50 cryptocurrencies** based on historical prices, technical indicators (SMA, RSI), and simulated sentiment data.\n",
    "\n",
    "### Features:\n",
    "- Dynamic top 50 crypto selection via CoinGecko API\n",
    "- Price data download using yfinance\n",
    "- SMA & RSI technical indicators\n",
    "- Weighted ranking algorithm including sentiment scores\n",
    "- Interactive visualization using Plotly\n",
    "- Markdown documentation embedded for clear methodology explanation"
   ]
  },
  {
   "cell_type": "code",
   "metadata": {},
   "source": [
    "# Install required packages\n",
    "!pip install yfinance pandas numpy plotly requests seaborn"
   ],
   "execution_count": null,
   "outputs": []
  },
  {
   "cell_type": "code",
   "metadata": {},
   "source": [
    "import yfinance as yf\n",
    "import pandas as pd\n",
    "import numpy as np\n",
    "import requests\n",
    "import plotly.express as px\n",
    "import seaborn as sns\n",
    "sns.set_style('whitegrid')"
   ],
   "execution_count": null,
   "outputs": []
  },
  {
   "cell_type": "markdown",
   "metadata": {},
   "source": [
    "## Step 1: Fetch Top 50 Cryptocurrencies from CoinGecko"
   ]
  },
  {
   "cell_type": "code",
   "metadata": {},
   "source": [
    "def get_top_cryptos(limit=50):\n",
    "    url = 'https://api.coingecko.com/api/v3/coins/markets'\n",
    "    params = {'vs_currency':'usd','order':'market_cap_desc','per_page':limit,'page':1}\n",
    "    response = requests.get(url, params=params).json()\n",
    "    return [coin['symbol'].upper() for coin in response]\n",
    "\n",
    "tickers = get_top_cryptos(50)\n",
    "tickers[:10]  # show first 10 for sanity check"
   ],
   "execution_count": null,
   "outputs": []
  },
  {
   "cell_type": "markdown",
   "metadata": {},
   "source": [
    "## Step 2: Download Historical Price Data"
   ]
  },
  {
   "cell_type": "code",
   "metadata": {},
   "source": [
    "def get_crypto_prices(tickers, start='2023-01-01', end='2025-12-31'):\n",
    "    data = {}\n",
    "    for ticker in tickers:\n",
    "        try:\n",
    "            df = yf.download(ticker+'-USD', start=start, end=end)\n",
    "            data[ticker] = df['Close']\n",
    "        except:\n",
    "            continue\n",
    "    return pd.DataFrame(data)\n",
    "\n",
    "prices = get_crypto_prices(tickers)\n",
    "prices.head()"
   ],
   "execution_count": null,
   "outputs": []
  },
  {
   "cell_type": "markdown",
   "metadata": {},
   "source": [
    "## Step 3: Technical Indicator Functions"
   ]
  },
  {
   "cell_type": "code",
   "metadata": {},
   "source": [
    "def calculate_sma(df, window=20):\n",
    "    return df.rolling(window=window).mean()\n",
    "\n",
    "def calculate_rsi(df, window=14):\n",
    "    delta = df.diff()\n",
    "    gain = delta.clip(lower=0)\n",
    "    loss = -1 * delta.clip(upper=0)\n",
    "    avg_gain = gain.rolling(window=window).mean()\n",
    "    avg_loss = loss.rolling(window=window).mean()\n",
    "    rs = avg_gain / avg_loss\n",
    "    rsi = 100 - (100 / (1 + rs))\n",
    "    return rsi"
   ],
   "execution_count": null,
   "outputs": []
  },
  {
   "cell_type": "markdown",
   "metadata": {},
   "source": [
    "## Step 4: Simulated Sentiment Scores"
   ]
  },
  {
   "cell_type": "code",
   "metadata": {},
   "source": [
    "# Generate random sentiment scores between 0.4 and 1.0 for demonstration\n",
    "np.random.seed(42)\n",
    "sentiment_scores = {ticker: np.random.uniform(0.4,1.0) for ticker in prices.columns}\n",
    "sentiment_scores"
   ],
   "execution_count": null,
   "outputs": []
  },
  {
   "cell_type": "markdown",
   "metadata": {},
   "source": [
    "## Step 5: Ranking Algorithm"
   ]
  },
  {
   "cell_type": "code",
   "metadata": {},
   "source": [
    "def rank_cryptos(price_df, sentiment_dict):\n",
    "    ranking_scores = {}\n",
    "    for crypto in price_df.columns:\n",
    "        price = price_df[crypto]\n",
    "        if len(price.dropna()) == 0:\n",
    "            continue\n",
    "        sma = calculate_sma(price).iloc[-1]\n",
    "        rsi = calculate_rsi(price).iloc[-1]\n",
    "        sentiment = sentiment_dict.get(crypto, 0)\n",
    "        \n",
    "        score = (sma/price.iloc[-1])*0.4 + (100-rsi)*0.3 + sentiment*0.3\n",
    "        ranking_scores[crypto] = score\n",
    "    ranking = pd.DataFrame(ranking_scores.items(), columns=['Crypto','Score'])\n",
    "    return ranking.sort_values(by='Score', ascending=False).reset_index(drop=True)\n",
    "\n",
    "ranking = rank_cryptos(prices, sentiment_scores)\n",
    "ranking.head(10)"
   ],
   "execution_count": null,
   "outputs": []
  },
  {
   "cell_type": "markdown",
   "metadata": {},
   "source": [
    "## Step 6: Interactive Visualization"
   ]
  },
  {
   "cell_type": "code",
   "metadata": {},
   "source": [
    "fig = px.bar(ranking.head(20), x='Crypto', y='Score', title='Top 20 Cryptocurrencies by Weighted Score', color='Score', color_continuous_scale='Viridis')\n",
    "fig.show()"
   ],
   "execution_count": null,
   "outputs": []
  },
  {
   "cell_type": "markdown",
   "metadata": {},
   "source": [
    "## Conclusion\n",
    "\n",
    "- The notebook ranks cryptocurrencies dynamically using market data and sentiment.\n",
    "- Provides a **data engineering + analytics + visualization** showcase.\n",
    "- Fully reproducible and interactive for portfolio analysis or further modeling."
   ]
  }
 ],
 "metadata": {
  "kernelspec": {
   "display_name": "Python 3",
   "language": "python",
   "name": "python3"
  },
  "language_info": {
   "name": "python",
   "version": "3.11"
  }
 },
 "nbformat": 4,
 "nbformat_minor": 5
}
